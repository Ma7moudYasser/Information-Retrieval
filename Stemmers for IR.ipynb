{
 "cells": [
  {
   "cell_type": "markdown",
   "id": "d8f3b28b",
   "metadata": {},
   "source": [
    "# What is stemming"
   ]
  },
  {
   "cell_type": "markdown",
   "id": "287e8850",
   "metadata": {},
   "source": [
    "## Stemming is a natural language processing technique that lowers inflection in words to their root forms, hence aiding in the preprocessing of text, words, and documents for text normalization."
   ]
  },
  {
   "cell_type": "markdown",
   "id": "396e29c2",
   "metadata": {},
   "source": [
    "# Why Stemming is Important?"
   ]
  },
  {
   "cell_type": "markdown",
   "id": "114deb9c",
   "metadata": {},
   "source": [
    "## As previously stated, the English language has several variants of a single term. The presence of these variances in a text corpus results in data redundancy when developing NLP or machine learning models. Such models may be ineffective.|"
   ]
  },
  {
   "cell_type": "markdown",
   "id": "1392ebaf",
   "metadata": {},
   "source": [
    "# Types of Stemmer in NLTK"
   ]
  },
  {
   "cell_type": "markdown",
   "id": "8b643047",
   "metadata": {},
   "source": [
    "## Porter Stemmer - PorterStemmer()"
   ]
  },
  {
   "cell_type": "code",
   "execution_count": 1,
   "id": "ae57686c",
   "metadata": {},
   "outputs": [
    {
     "name": "stdout",
     "output_type": "stream",
     "text": [
      "Connects ---> connect\n",
      "Connecting ---> connect\n",
      "Connections ---> connect\n",
      "Connected ---> connect\n",
      "Connection ---> connect\n",
      "Connectings ---> connect\n",
      "Connect ---> connect\n"
     ]
    }
   ],
   "source": [
    "from nltk.stem import PorterStemmer\n",
    "porter = PorterStemmer()\n",
    "words = ['Connects','Connecting','Connections','Connected','Connection','Connectings','Connect']\n",
    "for word in words:\n",
    "    print(word,\"--->\",porter.stem(word))"
   ]
  },
  {
   "cell_type": "markdown",
   "id": "a5dad3af",
   "metadata": {},
   "source": [
    "## Snowball Stemmer – SnowballStemmer()"
   ]
  },
  {
   "cell_type": "markdown",
   "id": "02352f56",
   "metadata": {},
   "source": [
    "### The method utilized in this instance is more precise and is referred to as “English Stemmer” or “Porter2 Stemmer.” It is somewhat faster and more logical than the original Porter Stemmer."
   ]
  },
  {
   "cell_type": "code",
   "execution_count": 2,
   "id": "2cc2d284",
   "metadata": {},
   "outputs": [
    {
     "name": "stdout",
     "output_type": "stream",
     "text": [
      "generous ---> generous\n",
      "generate ---> generat\n",
      "generously ---> generous\n",
      "generation ---> generat\n"
     ]
    }
   ],
   "source": [
    "from nltk.stem import SnowballStemmer\n",
    "snowball = SnowballStemmer(language='english')\n",
    "words = ['generous','generate','generously','generation']\n",
    "for word in words:\n",
    "    print(word,\"--->\",snowball.stem(word))"
   ]
  },
  {
   "cell_type": "markdown",
   "id": "61cc6706",
   "metadata": {},
   "source": [
    "## Lancaster Stemmer – LancasterStemmer()"
   ]
  },
  {
   "cell_type": "code",
   "execution_count": 3,
   "id": "c7c9a4e5",
   "metadata": {},
   "outputs": [
    {
     "name": "stdout",
     "output_type": "stream",
     "text": [
      "eating ----> eat\n",
      "eats ----> eat\n",
      "eaten ----> eat\n",
      "puts ----> put\n",
      "putting ----> put\n"
     ]
    }
   ],
   "source": [
    "from nltk.stem import LancasterStemmer\n",
    "lancaster = LancasterStemmer()\n",
    "words = ['eating', 'eats', 'eaten', 'puts', 'putting']\n",
    "for word in words:\n",
    "    print(word, \"---->\", lancaster.stem(word))"
   ]
  },
  {
   "cell_type": "markdown",
   "id": "c047ebb2",
   "metadata": {},
   "source": [
    "## Regexp Stemmer – RegexpStemmer()"
   ]
  },
  {
   "cell_type": "markdown",
   "id": "3a37bbd6",
   "metadata": {},
   "source": [
    "### Regex stemmer identifies morphological affixes using regular expressions. Substrings matching the regular expressions will be discarded."
   ]
  },
  {
   "cell_type": "code",
   "execution_count": 4,
   "id": "121e4335",
   "metadata": {},
   "outputs": [
    {
     "name": "stdout",
     "output_type": "stream",
     "text": [
      "mass ---> mas\n",
      "was ---> was\n",
      "bee ---> bee\n",
      "computer ---> computer\n",
      "advisable ---> advis\n"
     ]
    }
   ],
   "source": [
    "from nltk.stem import RegexpStemmer\n",
    "regexp = RegexpStemmer('ing$|s$|e$|able$', min=4)\n",
    "words = ['mass','was','bee','computer','advisable']\n",
    "for word in words:\n",
    "    print(word,\"--->\",regexp.stem(word))"
   ]
  },
  {
   "cell_type": "markdown",
   "id": "4964552f",
   "metadata": {},
   "source": [
    "## Porter vs Snowball vs Lancaster vs Regex Stemming in NLTK"
   ]
  },
  {
   "cell_type": "code",
   "execution_count": 5,
   "id": "fc7ed711",
   "metadata": {},
   "outputs": [
    {
     "name": "stdout",
     "output_type": "stream",
     "text": [
      "Word                Porter Stemmer      Snowball Stemmer    Lancaster Stemmer             Regexp Stemmer                          \n",
      "friend              friend              friend              friend                        friend                                  \n",
      "friendship          friendship          friendship          friend                        friendship                              \n",
      "friends             friend              friend              friend                        friend                                  \n",
      "friendships         friendship          friendship          friend                        friendship                              \n"
     ]
    }
   ],
   "source": [
    "from nltk.stem import PorterStemmer, SnowballStemmer, LancasterStemmer, RegexpStemmer\n",
    "porter = PorterStemmer()\n",
    "lancaster = LancasterStemmer()\n",
    "snowball = SnowballStemmer(language='english')\n",
    "regexp = RegexpStemmer('ing$|s$|e$|able$', min=4)\n",
    "word_list = [\"friend\", \"friendship\", \"friends\", \"friendships\"]\n",
    "print(\"{0:20}{1:20}{2:20}{3:30}{4:40}\".format(\"Word\",\"Porter Stemmer\",\"Snowball Stemmer\",\"Lancaster Stemmer\",'Regexp Stemmer'))\n",
    "for word in word_list:\n",
    "    print(\"{0:20}{1:20}{2:20}{3:30}{4:40}\".format(word,porter.stem(word),snowball.stem(word),lancaster.stem(word),regexp.stem(word)))"
   ]
  },
  {
   "cell_type": "code",
   "execution_count": null,
   "id": "1df59a7a",
   "metadata": {},
   "outputs": [],
   "source": []
  }
 ],
 "metadata": {
  "kernelspec": {
   "display_name": "Python 3 (ipykernel)",
   "language": "python",
   "name": "python3"
  },
  "language_info": {
   "codemirror_mode": {
    "name": "ipython",
    "version": 3
   },
   "file_extension": ".py",
   "mimetype": "text/x-python",
   "name": "python",
   "nbconvert_exporter": "python",
   "pygments_lexer": "ipython3",
   "version": "3.9.12"
  }
 },
 "nbformat": 4,
 "nbformat_minor": 5
}
